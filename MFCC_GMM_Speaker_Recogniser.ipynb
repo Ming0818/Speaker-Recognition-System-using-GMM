{
 "cells": [
  {
   "cell_type": "code",
   "execution_count": 4,
   "metadata": {},
   "outputs": [],
   "source": [
    "import numpy as np\n",
    "from pyAudioAnalysis import audioBasicIO\n",
    "import Audio_Feature_Extraction as AFE\n",
    "from pyAudioAnalysis import audioFeatureExtraction\n",
    "from sklearn import mixture\n",
    "from sklearn.externals import joblib\n",
    "import glob"
   ]
  },
  {
   "cell_type": "code",
   "execution_count": 19,
   "metadata": {},
   "outputs": [
    {
     "data": {
      "text/plain": [
       "48000"
      ]
     },
     "execution_count": 19,
     "metadata": {},
     "output_type": "execute_result"
    }
   ],
   "source": [
    "[Fs, x] = audioBasicIO.readAudioFile(\"03-01-05-01-01-01-01.wav\");\n",
    "window_size = 0.030\n",
    "overlap = 0.015\n",
    "VTH_Multiplier = 0.05\n",
    "VTH_range=100\n",
    "n_mixtures = 16\n",
    "max_iterations = 75\n",
    "calc_deltas=False"
   ]
  },
  {
   "cell_type": "code",
   "execution_count": 25,
   "metadata": {},
   "outputs": [
    {
     "data": {
      "text/plain": [
       "(95, 13)"
      ]
     },
     "execution_count": 25,
     "metadata": {},
     "output_type": "execute_result"
    }
   ],
   "source": [
    "energy = [ s**2 for s in x]\n",
    "Voiced_Threshold = VTH_Multiplier*np.mean(energy)\n",
    "clean_samples=[0]\n",
    "\n",
    "for sample_set in xrange(0,len(x)-VTH_range,VTH_range):\n",
    "    sample_set_th = np.mean(energy[sample_set:sample_set+VTH_range])\n",
    "    if sample_set_th>Voiced_Threshold:\n",
    "        clean_samples.extend(x[sample_set:sample_set+VTH_range])\n",
    "\n",
    "energy=None\n",
    "\n",
    "MFCC13_F = AFE.stFeatureExtraction(clean_samples, Fs, Fs*window_size, Fs*overlap)\n",
    "\n",
    "MFCC13_F.shape\n"
   ]
  },
  {
   "cell_type": "code",
   "execution_count": 26,
   "metadata": {},
   "outputs": [],
   "source": [
    "delta_MFCC = np.zeros(MFCC13_F.shape)\n",
    "for t in range(delta_MFCC.shape[1]):\n",
    "    index_t_minus_one,index_t_plus_one=t-1,t+1\n",
    "\n",
    "    if index_t_minus_one<0:    \n",
    "        index_t_minus_one=0\n",
    "    if index_t_plus_one>=delta_MFCC.shape[1]:\n",
    "        index_t_plus_one=delta_MFCC.shape[1]-1\n",
    "\n",
    "    delta_MFCC[:,t]=0.5*(MFCC13_F[:,index_t_plus_one]-MFCC13_F[:,index_t_minus_one] )"
   ]
  },
  {
   "cell_type": "code",
   "execution_count": 27,
   "metadata": {},
   "outputs": [],
   "source": [
    "double_delta_MFCC = np.zeros(MFCC13_F.shape)\n",
    "for t in range(double_delta_MFCC.shape[1]):\n",
    "\n",
    "    index_t_minus_one,index_t_plus_one, index_t_plus_two,index_t_minus_two=t-1,t+1,t+2,t-2\n",
    "\n",
    "    if index_t_minus_one<0:\n",
    "        index_t_minus_one=0\n",
    "    if index_t_plus_one>=delta_MFCC.shape[1]:\n",
    "        index_t_plus_one=delta_MFCC.shape[1]-1\n",
    "    if index_t_minus_two<0:\n",
    "        index_t_minus_two=0\n",
    "    if index_t_plus_two>=delta_MFCC.shape[1]:\n",
    "        index_t_plus_two=delta_MFCC.shape[1]-1\n",
    "\n",
    "    double_delta_MFCC[:,t]=0.1*( 2*MFCC13_F[:,index_t_plus_two]+MFCC13_F[:,index_t_plus_one]\n",
    "                                -MFCC13_F[:,index_t_minus_one]-2*MFCC13_F[:,index_t_minus_two] )"
   ]
  },
  {
   "cell_type": "code",
   "execution_count": 28,
   "metadata": {},
   "outputs": [
    {
     "data": {
      "text/plain": [
       "(95, 39)"
      ]
     },
     "execution_count": 28,
     "metadata": {},
     "output_type": "execute_result"
    }
   ],
   "source": [
    "Combined_MFCC_F = np.concatenate((MFCC13_F,delta_MFCC,double_delta_MFCC),axis=1)\n",
    "Combined_MFCC_F.shape"
   ]
  },
  {
   "cell_type": "code",
   "execution_count": 29,
   "metadata": {},
   "outputs": [
    {
     "data": {
      "text/plain": [
       "['be_mix.pkl']"
      ]
     },
     "execution_count": 29,
     "metadata": {},
     "output_type": "execute_result"
    }
   ],
   "source": [
    "gmm = mixture.GaussianMixture(n_components=n_mixtures, covariance_type='diag', \n",
    "                              max_iter = max_iterations ).fit(Combined_MFCC_F)\n",
    "joblib.dump(gmm, 'be_mix.pkl') "
   ]
  },
  {
   "cell_type": "code",
   "execution_count": null,
   "metadata": {},
   "outputs": [],
   "source": []
  }
 ],
 "metadata": {
  "kernelspec": {
   "display_name": "Python 2",
   "language": "python",
   "name": "python2"
  },
  "language_info": {
   "codemirror_mode": {
    "name": "ipython",
    "version": 2
   },
   "file_extension": ".py",
   "mimetype": "text/x-python",
   "name": "python",
   "nbconvert_exporter": "python",
   "pygments_lexer": "ipython2",
   "version": "2.7.12"
  }
 },
 "nbformat": 4,
 "nbformat_minor": 2
}
